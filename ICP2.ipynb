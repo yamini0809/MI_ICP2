{
  "nbformat": 4,
  "nbformat_minor": 0,
  "metadata": {
    "colab": {
      "provenance": [],
      "authorship_tag": "ABX9TyPs7NFYMH1qdIUCgInBcOyU",
      "include_colab_link": true
    },
    "kernelspec": {
      "name": "python3",
      "display_name": "Python 3"
    },
    "language_info": {
      "name": "python"
    }
  },
  "cells": [
    {
      "cell_type": "markdown",
      "metadata": {
        "id": "view-in-github",
        "colab_type": "text"
      },
      "source": [
        "<a href=\"https://colab.research.google.com/github/yamini0809/MI_ICP2/blob/main/ICP2.ipynb\" target=\"_parent\"><img src=\"https://colab.research.google.com/assets/colab-badge.svg\" alt=\"Open In Colab\"/></a>"
      ]
    },
    {
      "cell_type": "markdown",
      "source": [
        "1. Use a python code to display the following star pattern using the for loop"
      ],
      "metadata": {
        "id": "mj__edKJoxx7"
      }
    },
    {
      "cell_type": "code",
      "execution_count": 2,
      "metadata": {
        "colab": {
          "base_uri": "https://localhost:8080/"
        },
        "id": "BPXmlAPsofba",
        "outputId": "71e7263b-c3ca-465e-a669-491383491f20"
      },
      "outputs": [
        {
          "output_type": "stream",
          "name": "stdout",
          "text": [
            "* \r\n",
            "* * \r\n",
            "* * * \r\n",
            "* * * * \r\n",
            "* * * * * \r\n",
            "* * * * \r\n",
            "* * * \r\n",
            "* * \r\n",
            "* \r\n",
            "\r\n"
          ]
        }
      ],
      "source": [
        "rows = 5\n",
        "#used nested for loop to display top and bottam 5 rows of star pattern\n",
        "for i in range(0, rows):\n",
        "    for j in range(0, i + 1):\n",
        "        print(\"*\", end=' ')\n",
        "    print(\"\\r\")\n",
        "for i in range(rows, 0, -1):\n",
        "    for j in range(0, i - 1):\n",
        "        print(\"*\", end=' ')\n",
        "    print(\"\\r\")"
      ]
    },
    {
      "cell_type": "markdown",
      "source": [
        "2. Use looping to output the elements from a provided list present at odd indexes.\n",
        "my_list = [10, 20, 30, 40, 50, 60, 70, 80, 90, 100]"
      ],
      "metadata": {
        "id": "VcJ5mHQlpVsL"
      }
    },
    {
      "cell_type": "code",
      "source": [
        "# Define the list of integers\n",
        "my_list = [10, 20, 30, 40, 50, 60, 70, 80, 90, 100]\n",
        "# Loop through elements of the list starting from index 1, with a step of 2\n",
        "# This means it will select elements at odd indices: 1, 3, 5, 7, 9\n",
        "for i in my_list[1::2]:\n",
        "# Print each element followed by a space, rather than a newline\n",
        "    print(i, end=\" \")"
      ],
      "metadata": {
        "colab": {
          "base_uri": "https://localhost:8080/"
        },
        "id": "G-daUk2tpZ2W",
        "outputId": "1d2d2673-1496-4337-cfa6-5bdc7379508c"
      },
      "execution_count": 4,
      "outputs": [
        {
          "output_type": "stream",
          "name": "stdout",
          "text": [
            "20 40 60 80 100 "
          ]
        }
      ]
    },
    {
      "cell_type": "markdown",
      "source": [
        "3. Write a code that appends the type of elements from a given list.\n",
        "Input\n",
        "x = [23, ‘Python’, 23.98]\n",
        "Expected output\n",
        "[23, 'Python', 23.98]\n",
        "[<class 'int'>, <class 'str'>, <class 'float'>]"
      ],
      "metadata": {
        "id": "t_Os2N11rNdg"
      }
    },
    {
      "cell_type": "code",
      "source": [
        "# Append a list with types of elements\n",
        "x = [23,'Python', 23.98]\n",
        "n = []\n",
        "for i in range(len(x)):\n",
        "    #using type function to get types of elements like integer ,string ,float data types and printing them\n",
        "    n.append(type(x[i]))\n",
        "print(n)\n",
        "print(x)"
      ],
      "metadata": {
        "colab": {
          "base_uri": "https://localhost:8080/"
        },
        "id": "m8mu9CxOrWwj",
        "outputId": "6e98b960-20cb-4bcd-8a49-1b50c90697c7"
      },
      "execution_count": 5,
      "outputs": [
        {
          "output_type": "stream",
          "name": "stdout",
          "text": [
            "[<class 'int'>, <class 'str'>, <class 'float'>]\n",
            "[23, 'Python', 23.98]\n"
          ]
        }
      ]
    },
    {
      "cell_type": "markdown",
      "source": [
        "4. Write a function that takes a list and returns a new list with unique items of the first list.\n",
        "Sample List: [1,2,3,3,3,3,4,5]\n",
        "Unique List: [1, 2, 3, 4, 5]\n"
      ],
      "metadata": {
        "id": "fDu8-PWsrwab"
      }
    },
    {
      "cell_type": "code",
      "source": [
        "#Written a function that takes a list and returns a new list with unique items of the first list.\n",
        "#Sample List: [1,2,3,3,3,3,4,5]\n",
        "def unique_list(l):\n",
        "# Initialize an empty list to store unique elements\n",
        "  x = []\n",
        " # Iterate through each element in the input list using for loop\n",
        "  for a in l:\n",
        "  # If the element is not already in the list of unique elements, add it\n",
        "    if a not in x:\n",
        "      x.append(a)\n",
        "# Return the list of unique elements\n",
        "  return x\n",
        "print(unique_list([1,2,3,3,3,3,4,5]))"
      ],
      "metadata": {
        "colab": {
          "base_uri": "https://localhost:8080/"
        },
        "id": "cR21RQqtrx8C",
        "outputId": "1595c2a9-2865-4d9d-fc21-2645cbd9a2d5"
      },
      "execution_count": 6,
      "outputs": [
        {
          "output_type": "stream",
          "name": "stdout",
          "text": [
            "[1, 2, 3, 4, 5]\n"
          ]
        }
      ]
    },
    {
      "cell_type": "markdown",
      "source": [
        "5. Write a function that accepts a string and calculate the number of upper-case letters and lower-case\n",
        "letters.\n",
        "Input String: 'The quick Brow Fox'\n",
        "Expected Output:\n",
        "No. of Upper-case characters: 3\n",
        "No. of Lower-case Characters: 12\n"
      ],
      "metadata": {
        "id": "1NzP_QyEs0P0"
      }
    },
    {
      "cell_type": "code",
      "source": [
        "# Input String: 'The quick Brow Fox'\n",
        "def string_test(s):\n",
        "# Initialize a dictionary to count uppercase and lowercase characters\n",
        "    d={\"UPPER_CASE\":0, \"LOWER_CASE\":0}\n",
        "# Iterate through each character in the string\n",
        "    for c in s:\n",
        " # Check if the character is uppercase\n",
        "        if c.isupper():\n",
        "           d[\"UPPER_CASE\"]+=1\n",
        " # Check if the character is lowercase\n",
        "        elif c.islower():\n",
        "           d[\"LOWER_CASE\"]+=1\n",
        " # If the character is neither, do nothing\n",
        "        else:\n",
        "           pass\n",
        "# Print the strings\n",
        "    print (\"Original String : \", s)\n",
        "    print (\"No. of Upper case characters : \", d[\"UPPER_CASE\"])\n",
        "    print (\"No. of Lower case Characters : \", d[\"LOWER_CASE\"])\n",
        "# Test the function with the input string\n",
        "string_test('The quick Brow Fox')"
      ],
      "metadata": {
        "colab": {
          "base_uri": "https://localhost:8080/"
        },
        "id": "p17maP_ms59o",
        "outputId": "b446ee42-8f32-4302-a695-57c787729ab6"
      },
      "execution_count": 7,
      "outputs": [
        {
          "output_type": "stream",
          "name": "stdout",
          "text": [
            "Original String :  The quick Brow Fox\n",
            "No. of Upper case characters :  3\n",
            "No. of Lower case Characters :  12\n"
          ]
        }
      ]
    }
  ]
}